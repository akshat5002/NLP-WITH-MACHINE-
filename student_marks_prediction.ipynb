{
  "nbformat": 4,
  "nbformat_minor": 0,
  "metadata": {
    "colab": {
      "private_outputs": true,
      "provenance": []
    },
    "kernelspec": {
      "name": "python3",
      "display_name": "Python 3"
    },
    "language_info": {
      "name": "python"
    }
  },
  "cells": [
    {
      "cell_type": "code",
      "source": [
        "!git clone"
      ],
      "metadata": {
        "id": "bVVa4OElEJg4"
      },
      "execution_count": null,
      "outputs": []
    },
    {
      "cell_type": "code",
      "execution_count": null,
      "metadata": {
        "id": "JB2y0MAk7XRa"
      },
      "outputs": [],
      "source": [
        "import numpy as np\n",
        "import pandas as pd\n",
        "import matplotlib.pyplot as plt"
      ]
    },
    {
      "cell_type": "code",
      "source": [
        "path=r\"/content/student_info.csv\"\n",
        "df=pd.read_csv(path)"
      ],
      "metadata": {
        "id": "HgZVcCRFAyMu"
      },
      "execution_count": null,
      "outputs": []
    },
    {
      "cell_type": "code",
      "source": [
        "df.head()"
      ],
      "metadata": {
        "collapsed": true,
        "id": "Q0NZAPgBBNr8"
      },
      "execution_count": null,
      "outputs": []
    },
    {
      "cell_type": "code",
      "source": [
        "df.tail()"
      ],
      "metadata": {
        "id": "lQB5HT1TBbTg"
      },
      "execution_count": null,
      "outputs": []
    },
    {
      "cell_type": "code",
      "source": [
        "df.shape"
      ],
      "metadata": {
        "id": "dIL5mtLWBsCT"
      },
      "execution_count": null,
      "outputs": []
    },
    {
      "cell_type": "code",
      "source": [
        "df.info()"
      ],
      "metadata": {
        "id": "ywpKZMVoB6UF"
      },
      "execution_count": null,
      "outputs": []
    },
    {
      "cell_type": "code",
      "source": [
        "df.describe()"
      ],
      "metadata": {
        "id": "uX6cldaqCN12"
      },
      "execution_count": null,
      "outputs": []
    },
    {
      "cell_type": "code",
      "source": [
        "plt.scatter(x=df.study_hours, y= df.student_marks)\n",
        "plt.xlabel(\"study_hours\")\n",
        "plt.ylabel(\"study_marks\")\n",
        "plt.title(\"study_hours vs study_marks\")\n",
        "plt.show()"
      ],
      "metadata": {
        "id": "v3jUcLnXCaUg"
      },
      "execution_count": null,
      "outputs": []
    },
    {
      "cell_type": "code",
      "source": [
        "df.isnull().sum()"
      ],
      "metadata": {
        "id": "wuTpXPYuHZCE"
      },
      "execution_count": null,
      "outputs": []
    },
    {
      "cell_type": "code",
      "source": [
        "df.mean()"
      ],
      "metadata": {
        "id": "TKw7iMxCHxla"
      },
      "execution_count": null,
      "outputs": []
    },
    {
      "cell_type": "code",
      "source": [
        "df2=df.fillna(df.mean())"
      ],
      "metadata": {
        "id": "MNKq9tsHIG2m"
      },
      "execution_count": null,
      "outputs": []
    },
    {
      "cell_type": "code",
      "source": [
        "df2.isnull().sum()"
      ],
      "metadata": {
        "id": "DNXwJW93Imwm"
      },
      "execution_count": null,
      "outputs": []
    },
    {
      "cell_type": "code",
      "source": [
        "df2.head()"
      ],
      "metadata": {
        "id": "xqPcMS0sJTEd"
      },
      "execution_count": null,
      "outputs": []
    },
    {
      "cell_type": "code",
      "source": [
        "X=df2.drop(\"student_marks\", axis=\"columns\")\n",
        "y=df2.drop(\"study_hours\", axis=\"columns\")\n"
      ],
      "metadata": {
        "id": "c2YqTqzROjUb"
      },
      "execution_count": null,
      "outputs": []
    },
    {
      "cell_type": "code",
      "source": [
        "print(X.shape)\n",
        "print(y.shape)"
      ],
      "metadata": {
        "id": "MKkqakhLTr0l"
      },
      "execution_count": null,
      "outputs": []
    },
    {
      "cell_type": "code",
      "source": [
        "from sklearn.model_selection import train_test_split\n",
        "X_train, X_test, y_train, y_test= train_test_split(X,y,test_size=0.2,random_state=61)\n",
        "print(X_train.shape)\n",
        "print(X_test.shape)\n",
        "print(y_train.shape)\n",
        "print(y_test.shape)"
      ],
      "metadata": {
        "id": "szKSziRDMeic"
      },
      "execution_count": null,
      "outputs": []
    },
    {
      "cell_type": "code",
      "source": [
        "from sklearn .linear_model  import LinearRegression\n",
        "model=LinearRegression()\n",
        "#model.fit(X_train,y_train)\n",
        "#X_train, X_test, y_train, y_test= train_test_split(X,y,test_size=0.2,random_state=61)\n",
        "#print(X_train.shape)\n",
        "#print(X_test.shape)\n",
        "#print(y_train.shape)\n",
        "#print(y_test.shape)"
      ],
      "metadata": {
        "id": "ErNPR_z4Wfqh"
      },
      "execution_count": null,
      "outputs": []
    },
    {
      "cell_type": "code",
      "source": [
        "model.fit(X_train,y_train)\n",
        "\n"
      ],
      "metadata": {
        "id": "lRaG_0pjY446"
      },
      "execution_count": null,
      "outputs": []
    },
    {
      "cell_type": "code",
      "source": [
        "LinearRegression(copy_X = True, fit_intercept =True, n_jobs = None)"
      ],
      "metadata": {
        "id": "haqgpNsxZ27y"
      },
      "execution_count": null,
      "outputs": []
    },
    {
      "cell_type": "code",
      "source": [
        "model.coef_"
      ],
      "metadata": {
        "id": "vwISeTGicQj1"
      },
      "execution_count": null,
      "outputs": []
    },
    {
      "cell_type": "code",
      "source": [
        "model.intercept_"
      ],
      "metadata": {
        "id": "w5TagTHfcZjs"
      },
      "execution_count": null,
      "outputs": []
    },
    {
      "cell_type": "code",
      "source": [
        "m=3.9\n",
        "c=50.33\n",
        "y=m*4+c\n",
        "print(y)"
      ],
      "metadata": {
        "id": "xH4Yn9xEcmDF"
      },
      "execution_count": null,
      "outputs": []
    },
    {
      "cell_type": "code",
      "source": [
        "model.predict([[4]])"
      ],
      "metadata": {
        "id": "u8UKO6opdAnp"
      },
      "execution_count": null,
      "outputs": []
    },
    {
      "cell_type": "code",
      "source": [
        "model.predict([[4]])[0][0].round(2)"
      ],
      "metadata": {
        "id": "ysKVAB1Bd6CM"
      },
      "execution_count": null,
      "outputs": []
    },
    {
      "cell_type": "code",
      "source": [
        "y_pre=model.predict(X_test)\n",
        "y_pre"
      ],
      "metadata": {
        "id": "VVGOTtzmeSIM"
      },
      "execution_count": null,
      "outputs": []
    },
    {
      "cell_type": "code",
      "source": [],
      "metadata": {
        "id": "eK_JddVYf5ns"
      },
      "execution_count": null,
      "outputs": []
    },
    {
      "cell_type": "code",
      "source": [
        "pd.DataFrame (np.c_[X_test,y_test,y_pre] ,columns=[\"study_marks\",\"student_marks_orginal\",\"student_marks_predicted\"])"
      ],
      "metadata": {
        "id": "jYFE6g8XeljF"
      },
      "execution_count": null,
      "outputs": []
    },
    {
      "cell_type": "code",
      "source": [
        "model.score(X_test,y_test)"
      ],
      "metadata": {
        "id": "hAwpQyFBgeOg"
      },
      "execution_count": null,
      "outputs": []
    },
    {
      "cell_type": "code",
      "source": [
        "plt.scatter(X_train,y_train)"
      ],
      "metadata": {
        "id": "t_OVT2Kbg2sZ"
      },
      "execution_count": null,
      "outputs": []
    },
    {
      "cell_type": "code",
      "source": [
        "plt.scatter(X_test,y_test)\n",
        "plt.plot(X_train, model.predict(X_train), color=\"yellow\") # Move color inside plt.plot()\n"
      ],
      "metadata": {
        "id": "qCT3tkl1hSNy"
      },
      "execution_count": null,
      "outputs": []
    },
    {
      "cell_type": "code",
      "source": [
        "import joblib"
      ],
      "metadata": {
        "id": "6UZiy3DPjVcz"
      },
      "execution_count": null,
      "outputs": []
    },
    {
      "cell_type": "code",
      "source": [
        "joblib.dump(model,\"student_marks_predictor_model.pkl\")"
      ],
      "metadata": {
        "id": "3A9YNHhzjYkN"
      },
      "execution_count": null,
      "outputs": []
    },
    {
      "cell_type": "code",
      "source": [
        "model=joblib.load(\"student_marks_predictor_model.pkl\")"
      ],
      "metadata": {
        "id": "aTW9eJsTjz8O"
      },
      "execution_count": null,
      "outputs": []
    },
    {
      "cell_type": "code",
      "source": [
        "model.predict([[5]])[0][0]"
      ],
      "metadata": {
        "id": "E998rHs3kvgr"
      },
      "execution_count": null,
      "outputs": []
    }
  ]
}